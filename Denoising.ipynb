{
 "cells": [
  {
   "cell_type": "markdown",
   "id": "fbfbb653-4889-48e2-babc-2bfc798c89ae",
   "metadata": {},
   "source": [
    "# Import Required Libraries"
   ]
  },
  {
   "cell_type": "code",
   "execution_count": null,
   "id": "6b41f048-cc18-4b92-aca1-8eb8ffdde5c5",
   "metadata": {},
   "outputs": [],
   "source": [
    "import tensorflow as tf\n",
    "import numpy as np\n",
    "import pandas as pd\n",
    "import matplotlib.pyplot as plt\n",
    "import os\n",
    "import cv2\n",
    "\n",
    "from tensorflow.keras.preprocessing.image import load_img, img_to_array\n",
    "from tensorflow.keras.models import Sequential, Model\n",
    "from tensorflow.keras.layers import Conv2D, Conv2DTranspose, Input, MaxPooling2D, UpSampling2D\n",
    "from tensorflow.keras.optimizers import Adam"
   ]
  },
  {
   "cell_type": "markdown",
   "id": "4aa6ef96-f52a-4cd3-bbf4-ba0021a8da20",
   "metadata": {},
   "source": [
    "# Load Data"
   ]
  },
  {
   "cell_type": "code",
   "execution_count": null,
   "id": "d8c1fe71-5365-4ee0-a6d4-325ebbd8f23b",
   "metadata": {},
   "outputs": [],
   "source": [
    "root_dir = \"/mnt/hdd/Datasets/medical_image/\""
   ]
  },
  {
   "cell_type": "code",
   "execution_count": null,
   "id": "6d3bf71d-88fe-4aa5-8b7c-5f9713d00b49",
   "metadata": {},
   "outputs": [],
   "source": [
    "image_paths = os.listdir(root_dir)\n",
    "len(image_paths)"
   ]
  },
  {
   "cell_type": "code",
   "execution_count": null,
   "id": "7c29502c-77c8-405f-8ee7-4c8c282c1565",
   "metadata": {},
   "outputs": [],
   "source": [
    "images = []\n",
    "\n",
    "for image_path in image_paths:\n",
    "    img = load_img(root_dir + image_path, target_size=(64, 64), color_mode=\"grayscale\")\n",
    "    img = img_to_array(img)\n",
    "    img = img / 255.\n",
    "    images.append(img)"
   ]
  },
  {
   "cell_type": "code",
   "execution_count": null,
   "id": "99622506-99bb-4c7d-b0a5-3eba34821890",
   "metadata": {},
   "outputs": [],
   "source": [
    "images = np.array(images)"
   ]
  },
  {
   "cell_type": "code",
   "execution_count": null,
   "id": "73a8b55e-8e21-4508-9758-fa3cb9b80252",
   "metadata": {},
   "outputs": [],
   "source": [
    "type(images)"
   ]
  },
  {
   "cell_type": "code",
   "execution_count": null,
   "id": "4f6dfae5-0684-4831-93a8-b93f78900084",
   "metadata": {},
   "outputs": [],
   "source": [
    "def visualize_df(df: np.ndarray):\n",
    "    fig, axes = plt.subplots(4, 4, figsize=(12, 12))\n",
    "    for i, ax in enumerate(axes.ravel()):\n",
    "        if i < len(df):\n",
    "            img = df[i]\n",
    "            ax.imshow(img, cmap=\"gray\")\n",
    "            ax.axis(\"off\")\n",
    "        else:\n",
    "            ax.axis(\"off\")\n",
    "\n",
    "    plt.tight_layout()\n",
    "    plt.show()"
   ]
  },
  {
   "cell_type": "code",
   "execution_count": null,
   "id": "a501a11b-cc0b-4589-96f9-fcd73a46cc69",
   "metadata": {},
   "outputs": [],
   "source": [
    "visualize_df(images)"
   ]
  },
  {
   "cell_type": "code",
   "execution_count": null,
   "id": "b08917e6-6fe4-43d3-b38a-6805ad26916c",
   "metadata": {},
   "outputs": [],
   "source": [
    "noise_factor = 0.2\n",
    "\n",
    "noise_images = []\n",
    "\n",
    "for image in images:\n",
    "    noisy = image + noise_factor * np.random.randn(*image.shape)\n",
    "    noisy = np.clip(noisy, 0., 1.)\n",
    "    noise_images.append(noisy)"
   ]
  },
  {
   "cell_type": "code",
   "execution_count": null,
   "id": "503148cd-8abd-4c35-9528-318c92da8cec",
   "metadata": {},
   "outputs": [],
   "source": [
    "noise_images = np.array(noise_images)"
   ]
  },
  {
   "cell_type": "code",
   "execution_count": null,
   "id": "4be39d58-da0c-4080-8722-b762f31c38ac",
   "metadata": {},
   "outputs": [],
   "source": [
    "plt.imshow(images[0], cmap=\"gray\")"
   ]
  },
  {
   "cell_type": "code",
   "execution_count": null,
   "id": "3c9ad960-860a-4ff7-9773-fc0401ed7e64",
   "metadata": {},
   "outputs": [],
   "source": [
    "plt.imshow(noise_images[0], cmap=\"gray\")"
   ]
  },
  {
   "cell_type": "code",
   "execution_count": null,
   "id": "3917c689-558c-4cc5-99e3-e96b2bb5fff2",
   "metadata": {},
   "outputs": [],
   "source": [
    "noise_train = noise_images[:100]\n",
    "noise_test = noise_images[100:]\n",
    "\n",
    "noise_train.shape, noise_test.shape"
   ]
  },
  {
   "cell_type": "code",
   "execution_count": null,
   "id": "279382fa-29ec-4ca1-a22a-93b0694fdedc",
   "metadata": {},
   "outputs": [],
   "source": [
    "normal_train = images[:100]\n",
    "normal_test = images[100:]\n",
    "\n",
    "normal_train.shape, normal_test.shape"
   ]
  },
  {
   "cell_type": "markdown",
   "id": "29d2e50f-7070-419c-9e5c-1bfaa62cb595",
   "metadata": {},
   "source": [
    "# Model"
   ]
  },
  {
   "cell_type": "code",
   "execution_count": null,
   "id": "7450b932-468d-4301-9dda-5640c2f8faac",
   "metadata": {},
   "outputs": [],
   "source": [
    "autoencoder1 = Sequential([\n",
    "    # Input\n",
    "    Input((64, 64, 1)),\n",
    "    \n",
    "    # Encoder\n",
    "    Conv2D(32, (3, 3), strides=2, padding=\"same\"),\n",
    "    Conv2D(16, (3, 3), strides=2, padding=\"same\", activation='relu'),\n",
    "    \n",
    "    Conv2D(16, (3, 3), strides=1, padding=\"same\",activation='relu'),\n",
    "    \n",
    "    # Decoder\n",
    "    Conv2DTranspose(64, (3, 3), strides=2, padding=\"same\", activation='relu'),\n",
    "    Conv2DTranspose(1, (3, 3), strides=2, activation='sigmoid', padding=\"same\"),\n",
    "])"
   ]
  },
  {
   "cell_type": "code",
   "execution_count": null,
   "id": "b4d0e9e2-b137-4500-8eef-b22b168cd8fe",
   "metadata": {},
   "outputs": [],
   "source": [
    "autoencoder1.compile(loss='binary_crossentropy', optimizer=Adam(learning_rate=0.001))\n",
    "autoencoder1.summary()"
   ]
  },
  {
   "cell_type": "code",
   "execution_count": null,
   "id": "c9278400-532a-498f-99df-c15ad73d52db",
   "metadata": {},
   "outputs": [],
   "source": [
    "autoencoder1.fit(noise_train,        \n",
    "                 normal_train,\n",
    "                 validation_data=(noise_test, normal_test),\n",
    "                 epochs=16, \n",
    "                 batch_size=128)"
   ]
  },
  {
   "cell_type": "code",
   "execution_count": null,
   "id": "d1062acc-d5d1-46cf-8a55-9c18549a2c9b",
   "metadata": {},
   "outputs": [],
   "source": [
    "evaluation = autoencoder1.evaluate(noise_test, noise_test)\n",
    "evaluation"
   ]
  },
  {
   "cell_type": "code",
   "execution_count": null,
   "id": "81defb92-92c5-413c-9f26-3163f1d06450",
   "metadata": {},
   "outputs": [],
   "source": [
    "predicted = autoencoder1.predict(noise_test)"
   ]
  },
  {
   "cell_type": "code",
   "execution_count": null,
   "id": "768952a2-8165-4912-8b47-007aeddc2583",
   "metadata": {},
   "outputs": [],
   "source": [
    "def plot_predictions(test, preds):\n",
    "    plt.figure(figsize=(12, 12))\n",
    "    \n",
    "    # Noise test\n",
    "    for i in range(16):\n",
    "        plt.subplot(4, 8, i + 1)\n",
    "        plt.imshow(test[i], cmap='gray')\n",
    "        plt.axis('off')\n",
    "        plt.title('Noised')\n",
    "    \n",
    "    # Predicted\n",
    "    for i in range(16):\n",
    "        plt.subplot(4, 8, i + 17)\n",
    "        plt.imshow(preds[i], cmap='gray')\n",
    "        plt.axis('off')\n",
    "        plt.title('Predicted')\n",
    "    \n",
    "    plt.show()"
   ]
  },
  {
   "cell_type": "code",
   "execution_count": null,
   "id": "783be37c-1aa5-42e7-a56d-ba1a178ceeba",
   "metadata": {},
   "outputs": [],
   "source": [
    "plot_predictions(noise_test, predicted)"
   ]
  },
  {
   "cell_type": "code",
   "execution_count": null,
   "id": "8fa5fb6c-a8d7-4933-9bd4-18139d1239ed",
   "metadata": {},
   "outputs": [],
   "source": [
    "input_layer = Input(shape=(64, 64, 1))\n",
    "\n",
    "# Encoder\n",
    "x = Conv2D(32, (3, 3), activation=\"relu\", padding=\"same\")(input_layer)\n",
    "x = MaxPooling2D((2, 2), padding=\"same\")(x)\n",
    "x = Conv2D(64, (3, 3), activation=\"relu\", padding=\"same\")(x)\n",
    "encoded = MaxPooling2D((2, 2), padding=\"same\")(x)\n",
    "\n",
    "# Decoder\n",
    "x = Conv2D(64, (3, 3), activation=\"relu\", padding=\"same\")(encoded)\n",
    "x = UpSampling2D((2, 2))(x)\n",
    "x = Conv2D(32, (3, 3), activation=\"relu\", padding=\"same\")(x)\n",
    "x = UpSampling2D((2, 2))(x)\n",
    "decoded = Conv2D(1, (3, 3), activation=\"sigmoid\", padding=\"same\")(x)\n",
    "\n",
    "autoencoder2 = Model(input_layer, decoded)"
   ]
  },
  {
   "cell_type": "code",
   "execution_count": null,
   "id": "aa4ba624-12d8-4572-9598-cca904d0b986",
   "metadata": {},
   "outputs": [],
   "source": [
    "autoencoder2.compile(optimizer='adam', loss='mean_squared_error')"
   ]
  },
  {
   "cell_type": "code",
   "execution_count": null,
   "id": "c2e5cb29-4b5c-438a-a244-60810ec84251",
   "metadata": {},
   "outputs": [],
   "source": [
    "autoencoder2.fit(noise_train, noise_train, epochs=50, batch_size=128, shuffle=True, validation_data=(noise_test, noise_test))"
   ]
  },
  {
   "cell_type": "code",
   "execution_count": null,
   "id": "8c82146f-d6e8-4ae5-8fb8-82cb31babac0",
   "metadata": {},
   "outputs": [],
   "source": [
    "predicted = autoencoder2.predict(noise_test)"
   ]
  },
  {
   "cell_type": "code",
   "execution_count": null,
   "id": "8a4bafaa-de5c-4e4d-9c21-22e4b9543fac",
   "metadata": {},
   "outputs": [],
   "source": [
    "plot_predictions(noise_test, predicted)"
   ]
  },
  {
   "cell_type": "code",
   "execution_count": null,
   "id": "d35c2bd3-e4ef-4d4f-819a-fa70662d1d08",
   "metadata": {},
   "outputs": [],
   "source": []
  }
 ],
 "metadata": {
  "kernelspec": {
   "display_name": "Python 3 (ipykernel)",
   "language": "python",
   "name": "python3"
  },
  "language_info": {
   "codemirror_mode": {
    "name": "ipython",
    "version": 3
   },
   "file_extension": ".py",
   "mimetype": "text/x-python",
   "name": "python",
   "nbconvert_exporter": "python",
   "pygments_lexer": "ipython3",
   "version": "3.10.12"
  }
 },
 "nbformat": 4,
 "nbformat_minor": 5
}
